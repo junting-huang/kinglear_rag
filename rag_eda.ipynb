{
  "nbformat": 4,
  "nbformat_minor": 0,
  "metadata": {
    "colab": {
      "provenance": [],
      "authorship_tag": "ABX9TyMlxH4hD+zLmmoXG7gFaYho",
      "include_colab_link": true
    },
    "kernelspec": {
      "name": "python3",
      "display_name": "Python 3"
    },
    "language_info": {
      "name": "python"
    }
  },
  "cells": [
    {
      "cell_type": "markdown",
      "metadata": {
        "id": "view-in-github",
        "colab_type": "text"
      },
      "source": [
        "<a href=\"https://colab.research.google.com/github/junting-huang/kinglear_rag/blob/main/rag_eda.ipynb\" target=\"_parent\"><img src=\"https://colab.research.google.com/assets/colab-badge.svg\" alt=\"Open In Colab\"/></a>"
      ]
    },
    {
      "cell_type": "markdown",
      "source": [
        "#0.0 Set-up"
      ],
      "metadata": {
        "id": "v0jcpgnB48tx"
      }
    },
    {
      "cell_type": "code",
      "source": [
        "!pip install --upgrade openai"
      ],
      "metadata": {
        "colab": {
          "base_uri": "https://localhost:8080/"
        },
        "id": "u4W4qXL6O9X3",
        "outputId": "8a7797bc-974a-4622-9d58-af7bdc859c53"
      },
      "execution_count": null,
      "outputs": [
        {
          "output_type": "stream",
          "name": "stdout",
          "text": [
            "Requirement already satisfied: openai in /usr/local/lib/python3.11/dist-packages (1.84.0)\n",
            "Collecting openai\n",
            "  Downloading openai-1.85.0-py3-none-any.whl.metadata (25 kB)\n",
            "Requirement already satisfied: anyio<5,>=3.5.0 in /usr/local/lib/python3.11/dist-packages (from openai) (4.9.0)\n",
            "Requirement already satisfied: distro<2,>=1.7.0 in /usr/local/lib/python3.11/dist-packages (from openai) (1.9.0)\n",
            "Requirement already satisfied: httpx<1,>=0.23.0 in /usr/local/lib/python3.11/dist-packages (from openai) (0.28.1)\n",
            "Requirement already satisfied: jiter<1,>=0.4.0 in /usr/local/lib/python3.11/dist-packages (from openai) (0.10.0)\n",
            "Requirement already satisfied: pydantic<3,>=1.9.0 in /usr/local/lib/python3.11/dist-packages (from openai) (2.11.5)\n",
            "Requirement already satisfied: sniffio in /usr/local/lib/python3.11/dist-packages (from openai) (1.3.1)\n",
            "Requirement already satisfied: tqdm>4 in /usr/local/lib/python3.11/dist-packages (from openai) (4.67.1)\n",
            "Requirement already satisfied: typing-extensions<5,>=4.11 in /usr/local/lib/python3.11/dist-packages (from openai) (4.14.0)\n",
            "Requirement already satisfied: idna>=2.8 in /usr/local/lib/python3.11/dist-packages (from anyio<5,>=3.5.0->openai) (3.10)\n",
            "Requirement already satisfied: certifi in /usr/local/lib/python3.11/dist-packages (from httpx<1,>=0.23.0->openai) (2025.4.26)\n",
            "Requirement already satisfied: httpcore==1.* in /usr/local/lib/python3.11/dist-packages (from httpx<1,>=0.23.0->openai) (1.0.9)\n",
            "Requirement already satisfied: h11>=0.16 in /usr/local/lib/python3.11/dist-packages (from httpcore==1.*->httpx<1,>=0.23.0->openai) (0.16.0)\n",
            "Requirement already satisfied: annotated-types>=0.6.0 in /usr/local/lib/python3.11/dist-packages (from pydantic<3,>=1.9.0->openai) (0.7.0)\n",
            "Requirement already satisfied: pydantic-core==2.33.2 in /usr/local/lib/python3.11/dist-packages (from pydantic<3,>=1.9.0->openai) (2.33.2)\n",
            "Requirement already satisfied: typing-inspection>=0.4.0 in /usr/local/lib/python3.11/dist-packages (from pydantic<3,>=1.9.0->openai) (0.4.1)\n",
            "Downloading openai-1.85.0-py3-none-any.whl (730 kB)\n",
            "\u001b[2K   \u001b[90m━━━━━━━━━━━━━━━━━━━━━━━━━━━━━━━━━━━━━━━━\u001b[0m \u001b[32m730.2/730.2 kB\u001b[0m \u001b[31m15.1 MB/s\u001b[0m eta \u001b[36m0:00:00\u001b[0m\n",
            "\u001b[?25hInstalling collected packages: openai\n",
            "  Attempting uninstall: openai\n",
            "    Found existing installation: openai 1.84.0\n",
            "    Uninstalling openai-1.84.0:\n",
            "      Successfully uninstalled openai-1.84.0\n",
            "Successfully installed openai-1.85.0\n"
          ]
        }
      ]
    },
    {
      "cell_type": "code",
      "source": [
        "from openai import OpenAI\n",
        "\n",
        "client = OpenAI(api_key=\"OPENAI_API_KEY\")"
      ],
      "metadata": {
        "id": "4RihDYPpPogv"
      },
      "execution_count": null,
      "outputs": []
    },
    {
      "cell_type": "markdown",
      "source": [
        "#1.0 Referential Accuracy (%)"
      ],
      "metadata": {
        "id": "UCNKZZtXhE-t"
      }
    },
    {
      "cell_type": "markdown",
      "source": [
        "## 1.1 Initial Test (All Questions)"
      ],
      "metadata": {
        "id": "J_bqL3Ws5Q79"
      }
    },
    {
      "cell_type": "code",
      "source": [
        "import pandas as pd\n",
        "\n",
        "# Load files\n",
        "answers_df = pd.read_csv(\"rag-generate.tsv\", sep=\"\\t\")\n",
        "lear_df = pd.read_csv(\"kinglear.tsv\", sep=\"\\t\")\n",
        "\n",
        "# Complete question map\n",
        "question_map = {\n",
        "    \"1f\": \"What does Lear ask his daughters to do before dividing the kingdom?\",\n",
        "    \"1a\": \"Is Lear demanding love out of senility and childishness, seeking a symbolic display of loyalty? Or is he driven by shame and fear of real love, preferring performative affection because true love requires a reciprocity he can't manage?\",\n",
        "    \"1cf\": \"What if Lear had not framed the division as a contest of love declarations? What might have been his alternative approach to succession?\",\n",
        "    \"2f\": \"What is Cordelia’s response to Lear’s request for a love declaration?\",\n",
        "    \"2a\": \"Is Cordelia being deliberately defiant, standing for truth over flattery? Or is her refusal simply an honest struggle to express love falsely, hiding deep affection rather than rebelling?\",\n",
        "    \"2cf\": \"What if Cordelia had tried to explain her concept of love more clearly to Lear? What would make her help Lear understand that love is deeper than words?\",\n",
        "    \"3f\": \"Who is responsible for blinding Gloucester, and what is their motivation?\",\n",
        "    \"3a\": \"Does Gloucester’s blinding symbolize his moral blindness, highlighting human cruelty and vulnerability? Or is it a metaphor for cruelty’s desire to stay hidden, linked to Gloucester’s own shame and refusal to acknowledge Edmund?\",\n",
        "    \"3cf\": \"What if Gloucester had been spared from blinding but was forced to witness others suffer? How might he respond to suffering and cruelty?\",\n",
        "    \"4f\": \"When Gloucester expresses remorse about Edgar, what identity does Edgar maintain?\",\n",
        "    \"4a\": \"Does Edgar delay revealing himself to test Gloucester’s repentance and heighten the drama? Or does his avoidance reveal emotional cruelty, reflecting a broader theme of avoiding mutual recognition?\",\n",
        "    \"4cf\": \"What if Edgar had revealed his identity to Gloucester earlier? What would make him trust his father enough to disclose the truth without prolonging the disguise?\",\n",
        "    \"5f\": \"What is the last scene in which the Fool appears?\",\n",
        "    \"5a\": \"Does the Fool serve as Lear’s conscience and disappear as Lear descends into madness? Or does he vanish because his truth-telling becomes too painful, exposing a shame Lear can no longer bear?\",\n",
        "    \"5cf\": \"What if the Fool had stayed with Lear throughout his madness? What might he say to Lear in his darkest moments?\",\n",
        "    \"6f\": \"How does Cordelia die, and who is directly responsible for her death?\",\n",
        "    \"6a\": \"Is Cordelia’s death presented as the result of political betrayal, highlighting chaos and the absence of justice? Or is it the inevitable cost of Lear’s emotional failure—his inability to accept real love?\",\n",
        "    \"6cf\": \"What if Lear had arrived moments earlier and saved Cordelia? What circumstances would need to change for Cordelia’s rescue to be possible?\"\n",
        "}\n",
        "\n",
        "# Context retrieval\n",
        "def retrieve_context(question, lear_df, top_n=5):\n",
        "    return lear_df[lear_df['turn_text'].str.contains('|'.join(question.split()), case=False, na=False)].head(top_n)\n",
        "\n",
        "# Evaluate referential accuracy\n",
        "def check_accuracy(question, answer, context_df):\n",
        "    context = \"\\n\".join(f\"{row['speaker']}: {row['turn_text']}\" for _, row in context_df.iterrows())\n",
        "    prompt = f\"\"\"You are a literary expert in Shakespeare.\n",
        "\n",
        "Question: {question}\n",
        "Answer: {answer}\n",
        "\n",
        "Relevant passages from King Lear:\n",
        "{context}\n",
        "\n",
        "Does the answer correctly reference the context and address the question?\n",
        "Reply with a single digit: 1 (accurate) or 0 (inaccurate).\"\"\"\n",
        "\n",
        "    try:\n",
        "        response = client.chat.completions.create(\n",
        "            model=\"gpt-4\",\n",
        "            messages=[{\"role\": \"user\", \"content\": prompt}],\n",
        "            temperature=0\n",
        "        )\n",
        "        result = response.choices[0].message.content.strip()\n",
        "        return int(result[0]) if result[0] in ['0', '1'] else 0\n",
        "    except Exception as e:\n",
        "        print(f\"Error at row: {e}\")\n",
        "        return 0\n",
        "\n",
        "# Add accuracy scores\n",
        "question_texts = []\n",
        "accuracy_scores = []\n",
        "\n",
        "for _, row in answers_df.iterrows():\n",
        "    q_key = f\"{row['question_num']}{row['category']}\"\n",
        "    question = question_map.get(q_key)\n",
        "\n",
        "    if question is None:\n",
        "        print(f\"Missing mapping for {q_key}\")\n",
        "        question_texts.append(\"N/A\")\n",
        "        accuracy_scores.append(0)\n",
        "        continue\n",
        "\n",
        "    question_texts.append(question)\n",
        "    context = retrieve_context(question, lear_df)\n",
        "    score = check_accuracy(question, row['answer'], context)\n",
        "    accuracy_scores.append(score)\n",
        "\n",
        "# Append new columns\n",
        "answers_df[\"question_text\"] = question_texts\n",
        "answers_df[\"accuracy\"] = accuracy_scores\n",
        "\n",
        "# Export to new TSV\n",
        "answers_df.to_csv(\"rag-generate_with_accuracy.tsv\", sep=\"\\t\", index=False)"
      ],
      "metadata": {
        "id": "CVZb5qNrIdJL"
      },
      "execution_count": null,
      "outputs": []
    },
    {
      "cell_type": "code",
      "source": [
        "import pandas as pd\n",
        "import matplotlib.pyplot as plt\n",
        "import seaborn as sns\n",
        "\n",
        "# Load the TSV file\n",
        "file_path = \"rag-generate_with_accuracy.tsv\"  # Adjust path if needed\n",
        "df = pd.read_csv(file_path, sep=\"\\t\")\n",
        "\n",
        "# Compute average accuracy grouped by question number and category\n",
        "grouped_accuracy = df.groupby(['question_num', 'category'])['accuracy'].mean().reset_index()\n",
        "\n",
        "# Pivot for heatmap-style display\n",
        "pivot_df = grouped_accuracy.pivot(index='question_num', columns='category', values='accuracy')\n",
        "\n",
        "# Optional: print the grouped accuracy table\n",
        "print(grouped_accuracy)\n",
        "\n",
        "# Visualize with a heatmap\n",
        "plt.figure(figsize=(10, 6))\n",
        "sns.heatmap(pivot_df, annot=True, cmap=\"YlGnBu\", cbar_kws={'label': 'Average Accuracy'}, fmt=\".2f\")\n",
        "plt.title(\"Average Accuracy by Question Number and Category\")\n",
        "plt.ylabel(\"Question Number\")\n",
        "plt.xlabel(\"Category\")\n",
        "plt.tight_layout()\n",
        "plt.show()"
      ],
      "metadata": {
        "colab": {
          "base_uri": "https://localhost:8080/",
          "height": 946
        },
        "id": "UdDYsdUeiP35",
        "outputId": "c8a3df53-d5bc-4ceb-f17f-c81f537dbe97"
      },
      "execution_count": null,
      "outputs": [
        {
          "output_type": "stream",
          "name": "stdout",
          "text": [
            "    question_num category  accuracy\n",
            "0              1        a      0.32\n",
            "1              1       cf      0.72\n",
            "2              1        f      0.24\n",
            "3              2        a      0.38\n",
            "4              2       cf      0.24\n",
            "5              2        f      0.40\n",
            "6              3        a      0.80\n",
            "7              3       cf      0.30\n",
            "8              3        f      0.00\n",
            "9              4        a      0.46\n",
            "10             4       cf      0.54\n",
            "11             4        f      0.34\n",
            "12             5        a      0.32\n",
            "13             5       cf      0.42\n",
            "14             5        f      0.42\n",
            "15             6        a      0.70\n",
            "16             6       cf      0.16\n",
            "17             6        f      0.00\n"
          ]
        },
        {
          "output_type": "display_data",
          "data": {
            "text/plain": [
              "<Figure size 1000x600 with 2 Axes>"
            ],
            "image/png": "[encoded data removed]"
          },
          "metadata": {}
        }
      ]
    },
    {
      "cell_type": "markdown",
      "source": [
        "Test Result: [rag-generate_with_accuracy.tsv](https://drive.google.com/file/d/1h0EAqDeN1GQFsBrEVsw8zijrvEsgJH1J/view?usp=drive_link)"
      ],
      "metadata": {
        "id": "EO7rHbV16OoC"
      }
    },
    {
      "cell_type": "markdown",
      "source": [
        "## 1.2 RAG vs Non-RAG (F Category Question)"
      ],
      "metadata": {
        "id": "3UP3TbMO58l6"
      }
    },
    {
      "cell_type": "code",
      "source": [
        "import pandas as pd\n",
        "from openai import OpenAI\n",
        "import matplotlib.pyplot as plt\n",
        "\n",
        "# Load data\n",
        "rag_df = pd.read_csv(\"rag-generate.tsv\", sep=\"\\t\")\n",
        "null_df = pd.read_csv(\"null-generate.tsv\", sep=\"\\t\")\n",
        "lear_df = pd.read_csv(\"kinglear.tsv\", sep=\"\\t\")\n",
        "\n",
        "# Filter only F category from RAG\n",
        "rag_df = rag_df[rag_df['category'] == 'f'].copy()\n",
        "rag_df[\"source\"] = \"RAG\"\n",
        "\n",
        "# Use all entries from Baseline (null)\n",
        "null_df = null_df[null_df['category'] == 'f'].copy()\n",
        "null_df[\"source\"] = \"Baseline\"\n",
        "\n",
        "# Combine both\n",
        "combined_df = pd.concat([rag_df, null_df], ignore_index=True)\n",
        "\n",
        "# Factual questions only\n",
        "question_map = {\n",
        "    \"1f\": \"What does Lear ask his daughters to do before dividing the kingdom?\",\n",
        "    \"2f\": \"What is Cordelia’s response to Lear’s request for a love declaration?\",\n",
        "    \"3f\": \"Who is responsible for blinding Gloucester, and what is their motivation?\",\n",
        "    \"4f\": \"When Gloucester expresses remorse about Edgar, what identity does Edgar maintain?\",\n",
        "    \"5f\": \"What is the last scene in which the Fool appears?\",\n",
        "    \"6f\": \"How does Cordelia die, and who is directly responsible for her death?\"\n",
        "}\n",
        "\n",
        "\n",
        "# Context retrieval\n",
        "def retrieve_context(question, lear_df, top_n=5):\n",
        "    return lear_df[lear_df['turn_text'].str.contains('|'.join(question.split()), case=False, na=False)].head(top_n)\n",
        "\n",
        "# Updated accuracy prompt\n",
        "def check_accuracy(question, answer, context_df):\n",
        "    context = \"\\n\".join(f\"{row['speaker']}: {row['turn_text']}\" for _, row in context_df.iterrows())\n",
        "    prompt = f\"\"\"You are a literary expert in Shakespeare. Avoid unnecessary words in your responses. Use simple, direct language.\n",
        "\n",
        "Your task is to evaluate whether the following answer accurately cites or paraphrases relevant textual content from *King Lear* in response to a factual or context-specific question.\n",
        "\n",
        "A response is marked “accurate” if it contains content that is directly traceable to the play and correctly describes events, characters, or actions. Only return results without any additional commentary or formatting.\n",
        "\n",
        "Question: {question}\n",
        "Answer: {answer}\n",
        "\n",
        "Relevant excerpts from King Lear:\n",
        "{context}\n",
        "\n",
        "Does the answer correctly cite or paraphrase the relevant textual content and accurately describe what happens in the play?\n",
        "\n",
        "Reply with a single digit: 1 (accurate) or 0 (inaccurate).\"\"\"\n",
        "\n",
        "    try:\n",
        "        response = client.chat.completions.create(\n",
        "            model=\"gpt-4\",\n",
        "            messages=[{\"role\": \"user\", \"content\": prompt}],\n",
        "            temperature=0\n",
        "        )\n",
        "        result = response.choices[0].message.content.strip()\n",
        "        return int(result[0]) if result[0] in ['0', '1'] else 0\n",
        "    except Exception as e:\n",
        "        print(f\"Error at row: {e}\")\n",
        "        return 0\n",
        "\n",
        "# Run accuracy checks\n",
        "question_texts = []\n",
        "accuracy_scores = []\n",
        "\n",
        "for _, row in combined_df.iterrows():\n",
        "    q_key = f\"{row['question_num']}{row['category']}\"\n",
        "    question = question_map.get(q_key)\n",
        "\n",
        "    if question is None:\n",
        "        question_texts.append(\"N/A\")\n",
        "        accuracy_scores.append(0)\n",
        "        continue\n",
        "\n",
        "    question_texts.append(question)\n",
        "    context = retrieve_context(question, lear_df)\n",
        "    score = check_accuracy(question, row['answer'], context)\n",
        "    accuracy_scores.append(score)\n",
        "\n",
        "# Save results\n",
        "combined_df[\"question_text\"] = question_texts\n",
        "combined_df[\"accuracy\"] = accuracy_scores\n",
        "combined_df.to_csv(\"combined_accuracy_evaluation.tsv\", sep=\"\\t\", index=False)\n",
        "\n",
        "# Summary statistics\n",
        "summary = combined_df.groupby(\"source\")[\"accuracy\"].mean().reset_index()\n",
        "print(summary)\n",
        "\n",
        "# Bar chart\n",
        "summary.plot(kind=\"bar\", x=\"source\", y=\"accuracy\", legend=False)\n",
        "plt.ylabel(\"Average Accuracy\")\n",
        "plt.title(\"Referential Accuracy: RAG vs Baseline (Factual Questions Only)\")\n",
        "plt.xticks(rotation=0)\n",
        "plt.tight_layout()\n",
        "plt.show()"
      ],
      "metadata": {
        "colab": {
          "base_uri": "https://localhost:8080/",
          "height": 541
        },
        "id": "ZkMVsB3I557z",
        "outputId": "d523e277-26ea-404d-95c4-278c5b1ef9db"
      },
      "execution_count": null,
      "outputs": [
        {
          "output_type": "stream",
          "name": "stdout",
          "text": [
            "     source  accuracy\n",
            "0  Baseline  0.130000\n",
            "1       RAG  0.103333\n"
          ]
        },
        {
          "output_type": "display_data",
          "data": {
            "text/plain": [
              "<Figure size 640x480 with 1 Axes>"
            ],
            "image/png": "[encoded data removed]"
          },
          "metadata": {}
        }
      ]
    },
    {
      "cell_type": "markdown",
      "source": [
        "Test Result: [combined_accuracy_evaluation.tsv](https://drive.google.com/file/d/1h0EAqDeN1GQFsBrEVsw8zijrvEsgJH1J/view?usp=drive_link)"
      ],
      "metadata": {
        "id": "e4d-VBAHPwIS"
      }
    },
    {
      "cell_type": "markdown",
      "source": [
        "#2.0 Choice Classification (A Category Question)"
      ],
      "metadata": {
        "id": "Dl9S0Zf0ojIz"
      }
    },
    {
      "cell_type": "code",
      "source": [
        "import pandas as pd\n",
        "from openai import OpenAI\n",
        "\n",
        "# Load TSV files\n",
        "answers_df = pd.read_csv(\"rag-generate.tsv\", sep=\"\\t\")\n",
        "lear_df = pd.read_csv(\"kinglear.tsv\", sep=\"\\t\")\n",
        "\n",
        "# Filter only A-category rows\n",
        "answers_df = answers_df[answers_df[\"category\"] == \"a\"]\n",
        "\n",
        "# Define A-category questions with two options embedded\n",
        "question_map = {\n",
        "    \"1a\": \"Is Lear demanding love out of senility and childishness, seeking a symbolic display of loyalty? (A) Or is he driven by shame and fear of real love, preferring performative affection because true love requires a reciprocity he can't manage? (B)\",\n",
        "    \"2a\": \"Is Cordelia being deliberately defiant, standing for truth over flattery? (A) Or is her refusal simply an honest struggle to express love falsely, hiding deep affection rather than rebelling? (B)\",\n",
        "    \"3a\": \"Does Gloucester’s blinding symbolize his moral blindness, highlighting human cruelty and vulnerability? (A) Or is it a metaphor for cruelty’s desire to stay hidden, linked to Gloucester’s own shame and refusal to acknowledge Edmund? (B)\",\n",
        "    \"4a\": \"Does Edgar delay revealing himself to test Gloucester’s repentance and heighten the drama? (A) Or does his avoidance reveal emotional cruelty, reflecting a broader theme of avoiding mutual recognition? (B)\",\n",
        "    \"5a\": \"Does the Fool serve as Lear’s conscience and disappear as Lear descends into madness? (A) Or does he vanish because his truth-telling becomes too painful, exposing a shame Lear can no longer bear? (B)\",\n",
        "    \"6a\": \"Is Cordelia’s death presented as the result of political betrayal, highlighting chaos and the absence of justice? (A) Or is it the inevitable cost of Lear’s emotional failure—his inability to accept real love? (B)\"\n",
        "}\n",
        "\n",
        "# Function to classify answer alignment\n",
        "def classify_answer(question, answer):\n",
        "    prompt = f\"\"\"You are a literary expert in Shakespeare.\n",
        "\n",
        "QUESTION:\n",
        "{question}\n",
        "\n",
        "ANSWER:\n",
        "{answer}\n",
        "\n",
        "Does the answer align more with Option A, Option B, both (A+B), or neither (N/A)? Reply with one of: A, B, A+B, or N/A.\"\"\"\n",
        "\n",
        "    try:\n",
        "        response = client.chat.completions.create(\n",
        "            model=\"gpt-4\",\n",
        "            messages=[{\"role\": \"user\", \"content\": prompt}],\n",
        "            temperature=0\n",
        "        )\n",
        "        result = response.choices[0].message.content.strip()\n",
        "        result_upper = result.upper()\n",
        "        if result_upper in [\"A\", \"B\", \"A+B\", \"N/A\"]:\n",
        "            return result_upper\n",
        "        return \"N/A\"\n",
        "    except Exception as e:\n",
        "        print(f\"Error at row: {e}\")\n",
        "        return \"N/A\"\n",
        "\n",
        "# Process and classify answers\n",
        "question_texts = []\n",
        "classifications = []\n",
        "\n",
        "for _, row in answers_df.iterrows():\n",
        "    q_code = f\"{row['question_num']}{row['category']}\"\n",
        "    question = question_map.get(q_code)\n",
        "\n",
        "    if not question:\n",
        "        question_texts.append(\"N/A\")\n",
        "        classifications.append(\"N/A\")\n",
        "        continue\n",
        "\n",
        "    question_texts.append(question)\n",
        "    label = classify_answer(question, row['answer'])\n",
        "    classifications.append(label)\n",
        "\n",
        "# Add results to DataFrame and export\n",
        "answers_df[\"question_text\"] = question_texts\n",
        "answers_df[\"classification\"] = classifications\n",
        "answers_df.to_csv(\"rag-generate_a_classified.tsv\", sep=\"\\t\", index=False)"
      ],
      "metadata": {
        "id": "YPTsOWcZpHe2"
      },
      "execution_count": null,
      "outputs": []
    },
    {
      "cell_type": "code",
      "source": [
        "import pandas as pd\n",
        "import matplotlib.pyplot as plt\n",
        "\n",
        "# Load the TSV file\n",
        "file_path = \"rag-generate_a_classified.tsv\"  # Update path if needed\n",
        "df = pd.read_csv(file_path, sep=\"\\t\")\n",
        "\n",
        "# Group and tally classifications by question number\n",
        "classification_tally = df.groupby(\"question_num\")[\"classification\"].value_counts().unstack().fillna(0).astype(int)\n",
        "\n",
        "# Print the tally table\n",
        "print(\"Classification Tally by Question Number:\")\n",
        "print(classification_tally)\n",
        "\n",
        "# Plot the results\n",
        "plt.figure(figsize=(10, 6))\n",
        "classification_tally.plot(kind='bar', stacked=True)\n",
        "plt.title(\"Classification Tally by Question Number\")\n",
        "plt.xlabel(\"Question Number\")\n",
        "plt.ylabel(\"Count\")\n",
        "plt.xticks(rotation=0)\n",
        "plt.legend(title=\"Classification\")\n",
        "plt.tight_layout()\n",
        "plt.show()"
      ],
      "metadata": {
        "colab": {
          "base_uri": "https://localhost:8080/",
          "height": 666
        },
        "id": "BQ7yWaCufBXu",
        "outputId": "2df56df4-983d-46a1-aabe-7ef016ad8488"
      },
      "execution_count": null,
      "outputs": [
        {
          "output_type": "stream",
          "name": "stdout",
          "text": [
            "Classification Tally by Question Number:\n",
            "classification   A  A+B   B\n",
            "question_num               \n",
            "1                2   30  18\n",
            "2                3    4  42\n",
            "3                3   45   2\n",
            "4               11   24  15\n",
            "5                2   29  19\n",
            "6                0   12  38\n"
          ]
        },
        {
          "output_type": "display_data",
          "data": {
            "text/plain": [
              "<Figure size 1000x600 with 0 Axes>"
            ]
          },
          "metadata": {}
        },
        {
          "output_type": "display_data",
          "data": {
            "text/plain": [
              "<Figure size 640x480 with 1 Axes>"
            ],
            "image/png": "[encoded data removed]"
          },
          "metadata": {}
        }
      ]
    },
    {
      "cell_type": "markdown",
      "source": [
        "Test Result: [rag-generate_a_classified.tsv](https://drive.google.com/file/d/1h0EAqDeN1GQFsBrEVsw8zijrvEsgJH1J/view?usp=drive_link)"
      ],
      "metadata": {
        "id": "B6WLWBU-9d9n"
      }
    },
    {
      "cell_type": "markdown",
      "source": [
        "#3.0 Retrieval Relevance (A Category Question)"
      ],
      "metadata": {
        "id": "LhyBtlpIo5PM"
      }
    },
    {
      "cell_type": "markdown",
      "source": [
        "| **Quote Set**              | **Quotes Provided** | **Quotes Found** | **Key Observations**                                                             |\n",
        "| -------------------------- | ------------------- | ---------------- | -------------------------------------------------------------------------------- |\n",
        "| Lear (1)             | 10                  | 1                | Only \"I'll not love. Read thou this challenge...\" (Act IV, vi) appears.          |\n",
        "| Cordelia (2)       | 10                  | 3                | Focus on early scenes (\"What shall Cordelia speak?\", \"Unhappy that I am...\").    |\n",
        "| Gloucester (3)     | 10                  | 1                | Only \"What, with the case of eyes?\" (Act IV, vi) is quoted.                      |\n",
        "| Gloucester/Edgar (4)          | 10                  | 0                | No quotes from later subplot scenes (e.g., Dover Cliff, Edgar’s disguise).       |\n",
        "| Fool-Related (5)              | 10                  | 1                | Only \"I'll weep. O fool, I shall go mad!\" (Act II, iv) referenced.               |\n",
        "| Cordelia/Lear (6) | 10                  | 3                | Early exchanges (\"Unhappy that I am...\", \"So young, and so untender?\") analyzed. |\n"
      ],
      "metadata": {
        "id": "LcVQ_Ib19i7e"
      }
    },
    {
      "cell_type": "markdown",
      "source": [
        "Generally about 1-3 quotes appear in Cavell's text, but this may need manually sourced or abandoned altogether..."
      ],
      "metadata": {
        "id": "XrLQFp8y-HmF"
      }
    },
    {
      "cell_type": "markdown",
      "source": [
        "#4.0 Response Consistency (Δ)"
      ],
      "metadata": {
        "id": "Hfl8WE8SogeH"
      }
    },
    {
      "cell_type": "code",
      "execution_count": null,
      "metadata": {
        "colab": {
          "base_uri": "https://localhost:8080/"
        },
        "id": "iV9lsqTenSFL",
        "outputId": "02024fce-b2ad-4b39-ac7c-f42faf195360"
      },
      "outputs": [
        {
          "output_type": "stream",
          "name": "stdout",
          "text": [
            "   Category  Response Consistency (Δ)\n",
            "0        1a                  0.658775\n",
            "1       1cf                  0.655613\n",
            "2        1f                  0.673069\n",
            "3        2a                  0.639870\n",
            "4       2cf                  0.656151\n",
            "5        2f                  0.641235\n",
            "6        3a                  0.616508\n",
            "7       3cf                  0.654387\n",
            "8        3f                  0.691999\n",
            "9        4a                  0.681840\n",
            "10      4cf                  0.680818\n",
            "11       4f                  0.675998\n",
            "12       5a                  0.586091\n",
            "13      5cf                  0.646638\n",
            "14       5f                  0.637800\n",
            "15       6a                  0.633689\n",
            "16      6cf                  0.671199\n",
            "17       6f                  0.683327\n"
          ]
        }
      ],
      "source": [
        "import pandas as pd\n",
        "import numpy as np\n",
        "from sklearn.feature_extraction.text import TfidfVectorizer\n",
        "from sklearn.metrics.pairwise import cosine_similarity\n",
        "\n",
        "# === Step 1: Load Data ===\n",
        "# Replace with your file path\n",
        "file_path = 'rag-generate.tsv'\n",
        "df = pd.read_csv(file_path, sep='\\t', header=None)\n",
        "\n",
        "# Rename columns for clarity\n",
        "df.columns = ['question', 'type', 'run', 'response']\n",
        "\n",
        "# Create a category identifier like '1f', '2cf', etc.\n",
        "df['category'] = df['question'].astype(str) + df['type']\n",
        "\n",
        "# === Step 2: Define Δ Computation Function ===\n",
        "def compute_delta_tfidf(responses):\n",
        "    \"\"\"Compute 1 - avg pairwise cosine similarity of TF-IDF vectors.\"\"\"\n",
        "    if len(responses) < 2:\n",
        "        return np.nan  # Not enough data to compute\n",
        "    vectorizer = TfidfVectorizer().fit_transform(responses)\n",
        "    sim_matrix = cosine_similarity(vectorizer)\n",
        "    triu_indices = np.triu_indices(len(responses), k=1)\n",
        "    avg_similarity = np.mean(sim_matrix[triu_indices])\n",
        "    return 1 - avg_similarity\n",
        "\n",
        "# === Step 3: Group and Compute Consistency Scores ===\n",
        "delta_scores = df.groupby('category')['response'].apply(compute_delta_tfidf).reset_index()\n",
        "delta_scores.columns = ['Category', 'Response Consistency (Δ)']\n",
        "\n",
        "# === Step 4: Save or Display the Results ===\n",
        "print(delta_scores)\n",
        "\n",
        "# Optionally, save to CSV\n",
        "delta_scores.to_csv('response_consistency_scores.csv', index=False)\n"
      ]
    },
    {
      "cell_type": "markdown",
      "source": [
        "#5.0 Interpretive Depth (Avg 1–5)"
      ],
      "metadata": {
        "id": "j9IdKWI7-fcN"
      }
    },
    {
      "cell_type": "markdown",
      "source": [
        "to be manually sourced ..."
      ],
      "metadata": {
        "id": "mybYN2M9ihPr"
      }
    }
  ]
}